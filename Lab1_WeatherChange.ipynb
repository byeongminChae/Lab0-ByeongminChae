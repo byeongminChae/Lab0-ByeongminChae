{
  "nbformat": 4,
  "nbformat_minor": 0,
  "metadata": {
    "colab": {
      "name": "Lab1_WeatherChange.ipynb",
      "provenance": [],
      "collapsed_sections": [],
      "toc_visible": true,
      "authorship_tag": "ABX9TyMDtQzsgc9eHOuTMkFVyRdU",
      "include_colab_link": true
    },
    "kernelspec": {
      "name": "python3",
      "display_name": "Python 3"
    }
  },
  "cells": [
    {
      "cell_type": "markdown",
      "metadata": {
        "id": "view-in-github",
        "colab_type": "text"
      },
      "source": [
        "<a href=\"https://colab.research.google.com/github/byeongminChae/Lab0-ByeongminChae/blob/master/Lab1_WeatherChange.ipynb\" target=\"_parent\"><img src=\"https://colab.research.google.com/assets/colab-badge.svg\" alt=\"Open In Colab\"/></a>"
      ]
    },
    {
      "cell_type": "markdown",
      "metadata": {
        "id": "wA6mqGVdzZjt",
        "colab_type": "text"
      },
      "source": [
        "# ** TEXT CELL **\n",
        "1. List item 1\n",
        "2. List item 2"
      ]
    },
    {
      "cell_type": "markdown",
      "metadata": {
        "id": "WzRUDwerz4jO",
        "colab_type": "text"
      },
      "source": [
        "# INTRODUCTION\n",
        "* Byeongmin Chae\n",
        "* Incheon National University / Environmental Engineering\n",
        "* Bio-nanowire\n",
        "* 20200923"
      ]
    },
    {
      "cell_type": "code",
      "metadata": {
        "id": "tEOd8dPQzjak",
        "colab_type": "code",
        "colab": {
          "base_uri": "https://localhost:8080/",
          "height": 35
        },
        "outputId": "0102d6e9-9f32-4739-d1b7-17e240b2a936"
      },
      "source": [
        "a = 11\n",
        "b = 12\n",
        "print(a+b)"
      ],
      "execution_count": null,
      "outputs": [
        {
          "output_type": "stream",
          "text": [
            "23\n"
          ],
          "name": "stdout"
        }
      ]
    },
    {
      "cell_type": "code",
      "metadata": {
        "id": "QVtUPftd0mfV",
        "colab_type": "code",
        "colab": {
          "base_uri": "https://localhost:8080/",
          "height": 35
        },
        "outputId": "1fab1dca-37dc-4a81-f8b6-456c7ca930f7"
      },
      "source": [
        "from google.colab import drive\n",
        "drive.mount('/content/drive')"
      ],
      "execution_count": null,
      "outputs": [
        {
          "output_type": "stream",
          "text": [
            "Mounted at /content/drive\n"
          ],
          "name": "stdout"
        }
      ]
    },
    {
      "cell_type": "code",
      "metadata": {
        "id": "2mnMwJU78ElX",
        "colab_type": "code",
        "colab": {
          "base_uri": "https://localhost:8080/",
          "height": 35
        },
        "outputId": "f04e6ed5-59b7-4718-c299-0b9736b665c2"
      },
      "source": [
        "!pwd"
      ],
      "execution_count": 3,
      "outputs": [
        {
          "output_type": "stream",
          "text": [
            "/content\n"
          ],
          "name": "stdout"
        }
      ]
    },
    {
      "cell_type": "code",
      "metadata": {
        "id": "Vz-ujMXC8Hfw",
        "colab_type": "code",
        "colab": {
          "base_uri": "https://localhost:8080/",
          "height": 35
        },
        "outputId": "d82df99a-3dd4-40ce-9c46-52d9b4976d38"
      },
      "source": [
        "!ls 'drive/My Drive/Colab Notebooks'"
      ],
      "execution_count": 5,
      "outputs": [
        {
          "output_type": "stream",
          "text": [
            "Lab1_WeatherChange.ipynb\n"
          ],
          "name": "stdout"
        }
      ]
    }
  ]
}